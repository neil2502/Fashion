{
 "cells": [
  {
   "cell_type": "code",
   "execution_count": 124,
   "id": "41f29371",
   "metadata": {},
   "outputs": [],
   "source": [
    "import numpy as np\n",
    "import pandas as pd\n",
    "import matplotlib.pyplot as plt \n",
    "import seaborn as sns\n",
    "from sklearn.svm import SVC\n",
    "import tensorflow as tf \n",
    "from tensorflow import keras\n",
    "from keras.models import Sequential\n",
    "from keras.layers import Dense\n",
    "from sklearn.model_selection import train_test_split\n",
    "from sklearn.decomposition import PCA\n",
    "from sklearn.model_selection import KFold\n",
    "from sklearn.metrics import accuracy_score\n",
    "from sklearn.decomposition import PCA\n",
    "from sklearn.ensemble import ExtraTreesClassifier\n",
    "from sklearn.model_selection import cross_val_score\n",
    "from sklearn.model_selection import RepeatedKFold\n",
    "from sklearn.tree import DecisionTreeClassifier\n",
    "from sklearn.naive_bayes import GaussianNB\n",
    "from sklearn.neighbors import KNeighborsClassifier\n",
    "from sklearn.linear_model import LogisticRegression\n",
    "from sklearn.ensemble import RandomForestClassifier\n",
    "from keras.utils import to_categorical\n",
    "from keras.layers import Dense, Dropout, Flatten\n",
    "from keras.layers import Conv2D, MaxPooling2D\n",
    "from keras.layers.normalization import BatchNormalization\n",
    "from keras.models import Sequential\n",
    "import random"
   ]
  },
  {
   "cell_type": "markdown",
   "id": "38f1239f",
   "metadata": {},
   "source": [
    "Extract Dataset"
   ]
  },
  {
   "cell_type": "code",
   "execution_count": 3,
   "id": "aecb6741",
   "metadata": {},
   "outputs": [],
   "source": [
    "train = pd.read_csv('fashion-mnist_train[1].csv')\n",
    "test = pd.read_csv('fashion-mnist_test[1].csv')\n",
    "df = train.copy()\n",
    "df_test = test.copy()"
   ]
  },
  {
   "cell_type": "code",
   "execution_count": 4,
   "id": "0b9bb98f",
   "metadata": {},
   "outputs": [
    {
     "data": {
      "text/html": [
       "<div>\n",
       "<style scoped>\n",
       "    .dataframe tbody tr th:only-of-type {\n",
       "        vertical-align: middle;\n",
       "    }\n",
       "\n",
       "    .dataframe tbody tr th {\n",
       "        vertical-align: top;\n",
       "    }\n",
       "\n",
       "    .dataframe thead th {\n",
       "        text-align: right;\n",
       "    }\n",
       "</style>\n",
       "<table border=\"1\" class=\"dataframe\">\n",
       "  <thead>\n",
       "    <tr style=\"text-align: right;\">\n",
       "      <th></th>\n",
       "      <th>label</th>\n",
       "      <th>pixel1</th>\n",
       "      <th>pixel2</th>\n",
       "      <th>pixel3</th>\n",
       "      <th>pixel4</th>\n",
       "      <th>pixel5</th>\n",
       "      <th>pixel6</th>\n",
       "      <th>pixel7</th>\n",
       "      <th>pixel8</th>\n",
       "      <th>pixel9</th>\n",
       "      <th>...</th>\n",
       "      <th>pixel775</th>\n",
       "      <th>pixel776</th>\n",
       "      <th>pixel777</th>\n",
       "      <th>pixel778</th>\n",
       "      <th>pixel779</th>\n",
       "      <th>pixel780</th>\n",
       "      <th>pixel781</th>\n",
       "      <th>pixel782</th>\n",
       "      <th>pixel783</th>\n",
       "      <th>pixel784</th>\n",
       "    </tr>\n",
       "  </thead>\n",
       "  <tbody>\n",
       "    <tr>\n",
       "      <th>0</th>\n",
       "      <td>2</td>\n",
       "      <td>0</td>\n",
       "      <td>0</td>\n",
       "      <td>0</td>\n",
       "      <td>0</td>\n",
       "      <td>0</td>\n",
       "      <td>0</td>\n",
       "      <td>0</td>\n",
       "      <td>0</td>\n",
       "      <td>0</td>\n",
       "      <td>...</td>\n",
       "      <td>0</td>\n",
       "      <td>0</td>\n",
       "      <td>0</td>\n",
       "      <td>0</td>\n",
       "      <td>0</td>\n",
       "      <td>0</td>\n",
       "      <td>0</td>\n",
       "      <td>0</td>\n",
       "      <td>0</td>\n",
       "      <td>0</td>\n",
       "    </tr>\n",
       "    <tr>\n",
       "      <th>1</th>\n",
       "      <td>9</td>\n",
       "      <td>0</td>\n",
       "      <td>0</td>\n",
       "      <td>0</td>\n",
       "      <td>0</td>\n",
       "      <td>0</td>\n",
       "      <td>0</td>\n",
       "      <td>0</td>\n",
       "      <td>0</td>\n",
       "      <td>0</td>\n",
       "      <td>...</td>\n",
       "      <td>0</td>\n",
       "      <td>0</td>\n",
       "      <td>0</td>\n",
       "      <td>0</td>\n",
       "      <td>0</td>\n",
       "      <td>0</td>\n",
       "      <td>0</td>\n",
       "      <td>0</td>\n",
       "      <td>0</td>\n",
       "      <td>0</td>\n",
       "    </tr>\n",
       "    <tr>\n",
       "      <th>2</th>\n",
       "      <td>6</td>\n",
       "      <td>0</td>\n",
       "      <td>0</td>\n",
       "      <td>0</td>\n",
       "      <td>0</td>\n",
       "      <td>0</td>\n",
       "      <td>0</td>\n",
       "      <td>0</td>\n",
       "      <td>5</td>\n",
       "      <td>0</td>\n",
       "      <td>...</td>\n",
       "      <td>0</td>\n",
       "      <td>0</td>\n",
       "      <td>0</td>\n",
       "      <td>30</td>\n",
       "      <td>43</td>\n",
       "      <td>0</td>\n",
       "      <td>0</td>\n",
       "      <td>0</td>\n",
       "      <td>0</td>\n",
       "      <td>0</td>\n",
       "    </tr>\n",
       "    <tr>\n",
       "      <th>3</th>\n",
       "      <td>0</td>\n",
       "      <td>0</td>\n",
       "      <td>0</td>\n",
       "      <td>0</td>\n",
       "      <td>1</td>\n",
       "      <td>2</td>\n",
       "      <td>0</td>\n",
       "      <td>0</td>\n",
       "      <td>0</td>\n",
       "      <td>0</td>\n",
       "      <td>...</td>\n",
       "      <td>3</td>\n",
       "      <td>0</td>\n",
       "      <td>0</td>\n",
       "      <td>0</td>\n",
       "      <td>0</td>\n",
       "      <td>1</td>\n",
       "      <td>0</td>\n",
       "      <td>0</td>\n",
       "      <td>0</td>\n",
       "      <td>0</td>\n",
       "    </tr>\n",
       "    <tr>\n",
       "      <th>4</th>\n",
       "      <td>3</td>\n",
       "      <td>0</td>\n",
       "      <td>0</td>\n",
       "      <td>0</td>\n",
       "      <td>0</td>\n",
       "      <td>0</td>\n",
       "      <td>0</td>\n",
       "      <td>0</td>\n",
       "      <td>0</td>\n",
       "      <td>0</td>\n",
       "      <td>...</td>\n",
       "      <td>0</td>\n",
       "      <td>0</td>\n",
       "      <td>0</td>\n",
       "      <td>0</td>\n",
       "      <td>0</td>\n",
       "      <td>0</td>\n",
       "      <td>0</td>\n",
       "      <td>0</td>\n",
       "      <td>0</td>\n",
       "      <td>0</td>\n",
       "    </tr>\n",
       "  </tbody>\n",
       "</table>\n",
       "<p>5 rows × 785 columns</p>\n",
       "</div>"
      ],
      "text/plain": [
       "   label  pixel1  pixel2  pixel3  pixel4  pixel5  pixel6  pixel7  pixel8  \\\n",
       "0      2       0       0       0       0       0       0       0       0   \n",
       "1      9       0       0       0       0       0       0       0       0   \n",
       "2      6       0       0       0       0       0       0       0       5   \n",
       "3      0       0       0       0       1       2       0       0       0   \n",
       "4      3       0       0       0       0       0       0       0       0   \n",
       "\n",
       "   pixel9  ...  pixel775  pixel776  pixel777  pixel778  pixel779  pixel780  \\\n",
       "0       0  ...         0         0         0         0         0         0   \n",
       "1       0  ...         0         0         0         0         0         0   \n",
       "2       0  ...         0         0         0        30        43         0   \n",
       "3       0  ...         3         0         0         0         0         1   \n",
       "4       0  ...         0         0         0         0         0         0   \n",
       "\n",
       "   pixel781  pixel782  pixel783  pixel784  \n",
       "0         0         0         0         0  \n",
       "1         0         0         0         0  \n",
       "2         0         0         0         0  \n",
       "3         0         0         0         0  \n",
       "4         0         0         0         0  \n",
       "\n",
       "[5 rows x 785 columns]"
      ]
     },
     "execution_count": 4,
     "metadata": {},
     "output_type": "execute_result"
    }
   ],
   "source": [
    "df.head()"
   ]
  },
  {
   "cell_type": "code",
   "execution_count": 5,
   "id": "27d48de7",
   "metadata": {},
   "outputs": [
    {
     "data": {
      "text/html": [
       "<div>\n",
       "<style scoped>\n",
       "    .dataframe tbody tr th:only-of-type {\n",
       "        vertical-align: middle;\n",
       "    }\n",
       "\n",
       "    .dataframe tbody tr th {\n",
       "        vertical-align: top;\n",
       "    }\n",
       "\n",
       "    .dataframe thead th {\n",
       "        text-align: right;\n",
       "    }\n",
       "</style>\n",
       "<table border=\"1\" class=\"dataframe\">\n",
       "  <thead>\n",
       "    <tr style=\"text-align: right;\">\n",
       "      <th></th>\n",
       "      <th>label</th>\n",
       "      <th>pixel1</th>\n",
       "      <th>pixel2</th>\n",
       "      <th>pixel3</th>\n",
       "      <th>pixel4</th>\n",
       "      <th>pixel5</th>\n",
       "      <th>pixel6</th>\n",
       "      <th>pixel7</th>\n",
       "      <th>pixel8</th>\n",
       "      <th>pixel9</th>\n",
       "      <th>...</th>\n",
       "      <th>pixel775</th>\n",
       "      <th>pixel776</th>\n",
       "      <th>pixel777</th>\n",
       "      <th>pixel778</th>\n",
       "      <th>pixel779</th>\n",
       "      <th>pixel780</th>\n",
       "      <th>pixel781</th>\n",
       "      <th>pixel782</th>\n",
       "      <th>pixel783</th>\n",
       "      <th>pixel784</th>\n",
       "    </tr>\n",
       "  </thead>\n",
       "  <tbody>\n",
       "    <tr>\n",
       "      <th>0</th>\n",
       "      <td>0</td>\n",
       "      <td>0</td>\n",
       "      <td>0</td>\n",
       "      <td>0</td>\n",
       "      <td>0</td>\n",
       "      <td>0</td>\n",
       "      <td>0</td>\n",
       "      <td>0</td>\n",
       "      <td>9</td>\n",
       "      <td>8</td>\n",
       "      <td>...</td>\n",
       "      <td>103</td>\n",
       "      <td>87</td>\n",
       "      <td>56</td>\n",
       "      <td>0</td>\n",
       "      <td>0</td>\n",
       "      <td>0</td>\n",
       "      <td>0</td>\n",
       "      <td>0</td>\n",
       "      <td>0</td>\n",
       "      <td>0</td>\n",
       "    </tr>\n",
       "    <tr>\n",
       "      <th>1</th>\n",
       "      <td>1</td>\n",
       "      <td>0</td>\n",
       "      <td>0</td>\n",
       "      <td>0</td>\n",
       "      <td>0</td>\n",
       "      <td>0</td>\n",
       "      <td>0</td>\n",
       "      <td>0</td>\n",
       "      <td>0</td>\n",
       "      <td>0</td>\n",
       "      <td>...</td>\n",
       "      <td>34</td>\n",
       "      <td>0</td>\n",
       "      <td>0</td>\n",
       "      <td>0</td>\n",
       "      <td>0</td>\n",
       "      <td>0</td>\n",
       "      <td>0</td>\n",
       "      <td>0</td>\n",
       "      <td>0</td>\n",
       "      <td>0</td>\n",
       "    </tr>\n",
       "    <tr>\n",
       "      <th>2</th>\n",
       "      <td>2</td>\n",
       "      <td>0</td>\n",
       "      <td>0</td>\n",
       "      <td>0</td>\n",
       "      <td>0</td>\n",
       "      <td>0</td>\n",
       "      <td>0</td>\n",
       "      <td>14</td>\n",
       "      <td>53</td>\n",
       "      <td>99</td>\n",
       "      <td>...</td>\n",
       "      <td>0</td>\n",
       "      <td>0</td>\n",
       "      <td>0</td>\n",
       "      <td>0</td>\n",
       "      <td>63</td>\n",
       "      <td>53</td>\n",
       "      <td>31</td>\n",
       "      <td>0</td>\n",
       "      <td>0</td>\n",
       "      <td>0</td>\n",
       "    </tr>\n",
       "    <tr>\n",
       "      <th>3</th>\n",
       "      <td>2</td>\n",
       "      <td>0</td>\n",
       "      <td>0</td>\n",
       "      <td>0</td>\n",
       "      <td>0</td>\n",
       "      <td>0</td>\n",
       "      <td>0</td>\n",
       "      <td>0</td>\n",
       "      <td>0</td>\n",
       "      <td>0</td>\n",
       "      <td>...</td>\n",
       "      <td>137</td>\n",
       "      <td>126</td>\n",
       "      <td>140</td>\n",
       "      <td>0</td>\n",
       "      <td>133</td>\n",
       "      <td>224</td>\n",
       "      <td>222</td>\n",
       "      <td>56</td>\n",
       "      <td>0</td>\n",
       "      <td>0</td>\n",
       "    </tr>\n",
       "    <tr>\n",
       "      <th>4</th>\n",
       "      <td>3</td>\n",
       "      <td>0</td>\n",
       "      <td>0</td>\n",
       "      <td>0</td>\n",
       "      <td>0</td>\n",
       "      <td>0</td>\n",
       "      <td>0</td>\n",
       "      <td>0</td>\n",
       "      <td>0</td>\n",
       "      <td>0</td>\n",
       "      <td>...</td>\n",
       "      <td>0</td>\n",
       "      <td>0</td>\n",
       "      <td>0</td>\n",
       "      <td>0</td>\n",
       "      <td>0</td>\n",
       "      <td>0</td>\n",
       "      <td>0</td>\n",
       "      <td>0</td>\n",
       "      <td>0</td>\n",
       "      <td>0</td>\n",
       "    </tr>\n",
       "  </tbody>\n",
       "</table>\n",
       "<p>5 rows × 785 columns</p>\n",
       "</div>"
      ],
      "text/plain": [
       "   label  pixel1  pixel2  pixel3  pixel4  pixel5  pixel6  pixel7  pixel8  \\\n",
       "0      0       0       0       0       0       0       0       0       9   \n",
       "1      1       0       0       0       0       0       0       0       0   \n",
       "2      2       0       0       0       0       0       0      14      53   \n",
       "3      2       0       0       0       0       0       0       0       0   \n",
       "4      3       0       0       0       0       0       0       0       0   \n",
       "\n",
       "   pixel9  ...  pixel775  pixel776  pixel777  pixel778  pixel779  pixel780  \\\n",
       "0       8  ...       103        87        56         0         0         0   \n",
       "1       0  ...        34         0         0         0         0         0   \n",
       "2      99  ...         0         0         0         0        63        53   \n",
       "3       0  ...       137       126       140         0       133       224   \n",
       "4       0  ...         0         0         0         0         0         0   \n",
       "\n",
       "   pixel781  pixel782  pixel783  pixel784  \n",
       "0         0         0         0         0  \n",
       "1         0         0         0         0  \n",
       "2        31         0         0         0  \n",
       "3       222        56         0         0  \n",
       "4         0         0         0         0  \n",
       "\n",
       "[5 rows x 785 columns]"
      ]
     },
     "execution_count": 5,
     "metadata": {},
     "output_type": "execute_result"
    }
   ],
   "source": [
    "df_test.head()"
   ]
  },
  {
   "cell_type": "code",
   "execution_count": 6,
   "id": "d97f9ac7",
   "metadata": {},
   "outputs": [
    {
     "data": {
      "text/plain": [
       "((60000, 785), (10000, 785))"
      ]
     },
     "execution_count": 6,
     "metadata": {},
     "output_type": "execute_result"
    }
   ],
   "source": [
    "df.shape,df_test.shape"
   ]
  },
  {
   "cell_type": "markdown",
   "id": "f541e4c4",
   "metadata": {},
   "source": [
    "So, there are 60,000 Training Samples and 10,000 Test Samples."
   ]
  },
  {
   "cell_type": "code",
   "execution_count": 7,
   "id": "3842a2d0",
   "metadata": {},
   "outputs": [
    {
     "data": {
      "text/plain": [
       "array([2, 9, 6, 0, 3, 4, 5, 8, 7, 1], dtype=int64)"
      ]
     },
     "execution_count": 7,
     "metadata": {},
     "output_type": "execute_result"
    }
   ],
   "source": [
    "df['label'].unique()"
   ]
  },
  {
   "cell_type": "markdown",
   "id": "08e84a5b",
   "metadata": {},
   "source": [
    "Each example is a 28x28 grayscale image, associated with a label from 10 classes"
   ]
  },
  {
   "cell_type": "code",
   "execution_count": 8,
   "id": "71d6f88e",
   "metadata": {},
   "outputs": [],
   "source": [
    "#Check for null data"
   ]
  },
  {
   "cell_type": "code",
   "execution_count": 9,
   "id": "a760cc8c",
   "metadata": {},
   "outputs": [
    {
     "data": {
      "text/plain": [
       "0"
      ]
     },
     "execution_count": 9,
     "metadata": {},
     "output_type": "execute_result"
    }
   ],
   "source": [
    "df.isnull().sum().sum()"
   ]
  },
  {
   "cell_type": "code",
   "execution_count": 10,
   "id": "7cb5a777",
   "metadata": {},
   "outputs": [
    {
     "data": {
      "text/plain": [
       "0"
      ]
     },
     "execution_count": 10,
     "metadata": {},
     "output_type": "execute_result"
    }
   ],
   "source": [
    "df.isnull().sum().sum()"
   ]
  },
  {
   "cell_type": "code",
   "execution_count": 11,
   "id": "2aefcab4",
   "metadata": {},
   "outputs": [],
   "source": [
    "clothing = {0 : 'T-shirt/top',\n",
    "            1 : 'Trouser',\n",
    "            2 : 'Pullover',\n",
    "            3 : 'Dress',\n",
    "            4 : 'Coat',\n",
    "            5 : 'Sandal',\n",
    "            6 : 'Shirt',\n",
    "            7 : 'Sneaker',\n",
    "            8 : 'Bag',\n",
    "            9 : 'Ankle boot'}"
   ]
  },
  {
   "cell_type": "markdown",
   "id": "ef857645",
   "metadata": {},
   "source": [
    "Plotting Random Images"
   ]
  },
  {
   "cell_type": "code",
   "execution_count": 12,
   "id": "f6518831",
   "metadata": {},
   "outputs": [
    {
     "data": {
      "image/png": "[encoded data removed]",
      "text/plain": [
       "<Figure size 720x720 with 25 Axes>"
      ]
     },
     "metadata": {},
     "output_type": "display_data"
    }
   ],
   "source": [
    "# display the first 25 images from the training set and \n",
    "# display the class name below each image\n",
    "# verify that data is in correct format\n",
    "plt.figure(figsize=(10,10))\n",
    "for i in range(25):\n",
    "    plt.subplot(5,5, i+1)\n",
    "    plt.xticks([])\n",
    "    plt.yticks([])\n",
    "    plt.grid(False)\n",
    "    plt.imshow(df.drop('label', axis=1).values[i].reshape(28,28), cmap=plt.cm.binary)\n",
    "    plt.xlabel(clothing[df['label'][i]])"
   ]
  },
  {
   "cell_type": "markdown",
   "id": "65c7db7f",
   "metadata": {},
   "source": [
    "Training and validation and test set"
   ]
  },
  {
   "cell_type": "code",
   "execution_count": 15,
   "id": "a94f5961",
   "metadata": {},
   "outputs": [],
   "source": [
    "X = df.iloc[:,1:]\n",
    "y = df.iloc[:,0]\n",
    "X_test=df_test.iloc[:,1:]\n",
    "y_test=df_test.iloc[:,0]\n",
    "x_train, x_val, y_train, y_val = train_test_split(X, y, test_size=0.1, random_state=1000)"
   ]
  },
  {
   "cell_type": "markdown",
   "id": "a92fd9fe",
   "metadata": {},
   "source": [
    "Normalization"
   ]
  },
  {
   "cell_type": "code",
   "execution_count": 16,
   "id": "78d266dc",
   "metadata": {},
   "outputs": [],
   "source": [
    "x= X.astype(\"float32\")/255\n",
    "x_train = x_train.astype(\"float32\")/255\n",
    "x_val = x_val.astype(\"float32\")/255\n",
    "x_test = X_test.astype(\"float32\")/255"
   ]
  },
  {
   "cell_type": "code",
   "execution_count": 108,
   "id": "976c637f",
   "metadata": {},
   "outputs": [],
   "source": [
    "meth=[\"SVC with rbf kernel\",\"Decision Tree Classifier\",\"ExtraTreeClassifier\",\"GaussianNB\",\"KNeighbors Classifier\",\n",
    "      \"Logistic Regression\",\"RandomForestClassifier\",\"3-Layer Neural Network\",\n",
    "      \"CNN\"\n",
    "     ]\n",
    "acc=[]"
   ]
  },
  {
   "cell_type": "markdown",
   "id": "635817fa",
   "metadata": {},
   "source": [
    "Dimensionality Reduction using PCA"
   ]
  },
  {
   "cell_type": "code",
   "execution_count": 19,
   "id": "d6e346c0",
   "metadata": {},
   "outputs": [],
   "source": [
    "pca = PCA(n_components=200)\n",
    "pca.fit(x_train)\n",
    "x_train_pca = pca.transform(x_train)\n",
    "x_val_pca= pca.transform(x_val)\n",
    "x_test_pca=pca.transform(x_test)"
   ]
  },
  {
   "cell_type": "markdown",
   "id": "e53ed757",
   "metadata": {},
   "source": [
    "Make training datasets array"
   ]
  },
  {
   "cell_type": "code",
   "execution_count": 76,
   "id": "d3b85e49",
   "metadata": {},
   "outputs": [
    {
     "data": {
      "text/plain": [
       "((54000, 784), (10000, 784))"
      ]
     },
     "execution_count": 76,
     "metadata": {},
     "output_type": "execute_result"
    }
   ],
   "source": [
    "x_train_arr = np.array(x_train, dtype = 'float32')\n",
    "x_val_arr= np.array(x_val, dtype='float32')\n",
    "x_test_arr=np.array(X_test, dtype='float32')\n",
    "x_train_arr.shape,x_test_arr.shape"
   ]
  },
  {
   "cell_type": "code",
   "execution_count": 77,
   "id": "773e4743",
   "metadata": {},
   "outputs": [],
   "source": [
    "image_shape = (28,28,1)\n",
    "x_train_arr=x_train_arr.reshape(x_train_arr.shape[0],*image_shape)\n",
    "x_val_arr=x_val_arr.reshape(x_val.shape[0],*image_shape)\n",
    "x_test_arr=x_test_arr.reshape(X_test.shape[0],*image_shape)\n",
    "x_train_arr.shape,x_test_arr.shape\n",
    "y_test_cat = to_categorical(np.array(y_test))\n",
    "y_val_cat=to_categorical(np.array(y_val))\n",
    "y_train_cat = to_categorical(np.array(y_train))"
   ]
  },
  {
   "cell_type": "code",
   "execution_count": 47,
   "id": "1f456c4d",
   "metadata": {},
   "outputs": [],
   "source": [
    "def fun1(x_train_pca,y_train,x_val_pca,y_val,x_test_pca,y_test):\n",
    "    svc = SVC(gamma='scale',kernel='rbf',C=1)\n",
    "    svc.fit(x_train_pca,y_train)\n",
    "    preds = svc.predict(x_val_pca)\n",
    "    print(accuracy_score(preds,y_val)*100)\n",
    "    pred=svc.predict(x_test_pca)\n",
    "    ans=accuracy_score(y_test,pred)\n",
    "    acc.append(ans)"
   ]
  },
  {
   "cell_type": "code",
   "execution_count": 48,
   "id": "6a6c4af9",
   "metadata": {},
   "outputs": [],
   "source": [
    "def fun2(x_train_pca,y_train,x_val_pca,y_val,x_test_pca,y_test):\n",
    "    classifier = DecisionTreeClassifier(criterion='gini')\n",
    "    classifier.fit(x_train_pca,y_train)\n",
    "    preds = classifier.predict(x_val_pca)\n",
    "    print(accuracy_score(preds,y_val)*100)\n",
    "    pred=classifier.predict(x_test_pca)\n",
    "    ans=accuracy_score(y_test,pred)\n",
    "    acc.append(ans)"
   ]
  },
  {
   "cell_type": "code",
   "execution_count": 32,
   "id": "163b10c0",
   "metadata": {},
   "outputs": [
    {
     "name": "stdout",
     "output_type": "stream",
     "text": [
      "75.75\n",
      "[0.7629, 0.7627, 0.7593, 0.7602, 0.7604]\n"
     ]
    }
   ],
   "source": [
    "DT(x_train_pca,y_train,x_val_pca,y_val,x_test_pca,y_test)"
   ]
  },
  {
   "cell_type": "code",
   "execution_count": 49,
   "id": "ad01d4d4",
   "metadata": {},
   "outputs": [],
   "source": [
    "def fun3(x_train_pca,y_train,x_val_pca,y_val,x_test_pca,y_test):\n",
    "    model = ExtraTreesClassifier()\n",
    "    model.fit(x_train_pca,y_train)\n",
    "    preds = model.predict(x_val_pca)\n",
    "    print(accuracy_score(preds,y_val)*100)\n",
    "    pred=model.predict(x_test_pca)\n",
    "    ans=accuracy_score(y_test,pred)\n",
    "    acc.append(ans)"
   ]
  },
  {
   "cell_type": "code",
   "execution_count": 50,
   "id": "328424d6",
   "metadata": {},
   "outputs": [],
   "source": [
    "def fun4(x_train_pca,y_train,x_val_pca,y_val,x_test_pca,y_test):\n",
    "    model = GaussianNB()\n",
    "    model.fit(x_train_pca,y_train)\n",
    "    preds = model.predict(x_val_pca)\n",
    "    print(accuracy_score(preds,y_val)*100)\n",
    "    pred=model.predict(x_test_pca)\n",
    "    ans=accuracy_score(y_test,pred)\n",
    "    acc.append(ans)"
   ]
  },
  {
   "cell_type": "code",
   "execution_count": 51,
   "id": "4d4cf185",
   "metadata": {},
   "outputs": [],
   "source": [
    "def fun5(x_train_pca,y_train,x_val_pca,y_val,x_test_pca,y_test):\n",
    "    model = KNeighborsClassifier(n_neighbors=10)\n",
    "    model.fit(x_train_pca,y_train)\n",
    "    preds = model.predict(x_val_pca)\n",
    "    print(accuracy_score(preds,y_val)*100)\n",
    "    pred=model.predict(x_test_pca)\n",
    "    ans=accuracy_score(y_test,pred)\n",
    "    acc.append(ans)"
   ]
  },
  {
   "cell_type": "code",
   "execution_count": 52,
   "id": "44fef151",
   "metadata": {},
   "outputs": [],
   "source": [
    "def fun6(x_train_pca,y_train,x_val_pca,y_val,x_test_pca,y_test):\n",
    "    model = LogisticRegression()\n",
    "    model.fit(x_train_pca,y_train)\n",
    "    preds = model.predict(x_val_pca)\n",
    "    print(accuracy_score(preds,y_val)*100)\n",
    "    pred=model.predict(x_test_pca)\n",
    "    ans=accuracy_score(y_test,pred)\n",
    "    acc.append(ans)"
   ]
  },
  {
   "cell_type": "code",
   "execution_count": 53,
   "id": "b99b4262",
   "metadata": {},
   "outputs": [],
   "source": [
    "def fun7(x_train_pca,y_train,x_val_pca,y_val,x_test_pca,y_test):\n",
    "    model = RandomForestClassifier()\n",
    "    model.fit(x_train_pca,y_train)\n",
    "    preds = model.predict(x_val_pca)\n",
    "    print(accuracy_score(preds,y_val)*100)\n",
    "    pred=model.predict(x_test_pca)\n",
    "    ans=accuracy_score(y_test,pred)\n",
    "    acc.append(ans)"
   ]
  },
  {
   "cell_type": "code",
   "execution_count": 81,
   "id": "d9dfb384",
   "metadata": {},
   "outputs": [],
   "source": [
    "def fun8(x_train_arr,y_train_cat,x_val_arr,y_val,x_test_arr,y_test_cat):\n",
    "    model = keras.Sequential([\n",
    "    keras.layers.Flatten(input_shape=image_shape),\n",
    "    keras.layers.Dense(128, activation=tf.nn.relu),\n",
    "    keras.layers.Dense(10, activation=tf.nn.softmax)\n",
    "    ])\n",
    "    model.summary() \n",
    "\n",
    "    # Step 2 - Compile the model\n",
    "    model.compile(optimizer='adam',\n",
    "                  loss='categorical_crossentropy',\n",
    "                  metrics=['accuracy'])\n",
    "    model.fit(x_train_arr, y_train_cat, epochs=10, validation_data=(x_val_arr,y_val_cat),shuffle=True)\n",
    "    test_loss, test_acc = model.evaluate(x_test_arr,y_test_cat)\n",
    "    acc.append(test_acc)"
   ]
  },
  {
   "cell_type": "code",
   "execution_count": 117,
   "id": "0ca83349",
   "metadata": {},
   "outputs": [],
   "source": [
    "def fun9(x_train_arr,y_train_cat,x_val_arr,y_val,x_test_arr,y_test_cat):\n",
    "    cnn_model = keras.Sequential([\n",
    "    keras.layers.Conv2D(filters=32,kernel_size=3,activation='relu',input_shape = image_shape),\n",
    "    keras.layers.MaxPooling2D(pool_size=2) ,# down sampling the output instead of 28*28 it is 14*14\n",
    "    keras.layers.Dropout(0.2),\n",
    "    keras.layers.Flatten(), # flatten out the layers\n",
    "    keras.layers.Dense(32,activation='relu'),\n",
    "    keras.layers.Dense(10,activation = 'softmax')\n",
    "    ])\n",
    "    cnn_model.summary()\n",
    "    cnn_model.compile(loss=keras.losses.categorical_crossentropy,\n",
    "              optimizer=keras.optimizers.Adam(),\n",
    "              metrics=['accuracy'])\n",
    "    cnn_model.fit(\n",
    "    x_train_arr,\n",
    "    y_train_cat,\n",
    "    epochs=20,\n",
    "    verbose=1,\n",
    "    validation_data=(x_val_arr,y_val_cat),\n",
    "    )\n",
    "    score = cnn_model.evaluate(x_test_arr, y_test_cat)\n",
    "    acc.append(score[1])"
   ]
  },
  {
   "cell_type": "code",
   "execution_count": 103,
   "id": "3415fac3",
   "metadata": {},
   "outputs": [],
   "source": [
    "# def fun10(x_train_arr,y_train_cat,x_val_arr,y_val,x_test_arr,y_test_cat):\n",
    "#     num_classes = 10\n",
    "\n",
    "#     model = keras.Sequential()\n",
    "\n",
    "#     model.add(keras.layers.Conv2D(6, kernel_size=(3, 3), activation='relu', input_shape=(28,28,1)))\n",
    "#     model.add(keras.layers.AveragePooling2D())\n",
    "\n",
    "#     model.add(keras.layers.Conv2D(16, kernel_size=(3, 3), activation='relu'))\n",
    "#     model.add(keras.layers.AveragePooling2D())\n",
    "\n",
    "#     model.add(keras.layers.Flatten())\n",
    "\n",
    "#     model.add(keras.layers.Dense(120, activation='relu'))\n",
    "\n",
    "#     model.add(keras.layers.Dense(84, activation='relu'))\n",
    "\n",
    "#     model.add(keras.layers.Dense(num_classes, activation = 'softmax'))\n",
    "#     model.compile(optimizer=\"adam\",\n",
    "#               loss=\"categorical_crossentropy\",\n",
    "#               metrics=[\"accuracy\"])\n",
    "#     model.summary()\n",
    "#     model.fit(x_train_arr, y_train_cat,\n",
    "#                     epochs=10,\n",
    "#                     validation_data=(x_val_arr,y_val_cat))\n",
    "#     score = model.evaluate(x_test_arr, y_test_cat, verbose=0)\n",
    "#     acc.append(score[1])"
   ]
  },
  {
   "cell_type": "code",
   "execution_count": 82,
   "id": "b9495787",
   "metadata": {},
   "outputs": [
    {
     "name": "stdout",
     "output_type": "stream",
     "text": [
      "Model: \"sequential_7\"\n",
      "_________________________________________________________________\n",
      "Layer (type)                 Output Shape              Param #   \n",
      "=================================================================\n",
      "flatten_7 (Flatten)          (None, 784)               0         \n",
      "_________________________________________________________________\n",
      "dense_14 (Dense)             (None, 128)               100480    \n",
      "_________________________________________________________________\n",
      "dense_15 (Dense)             (None, 10)                1290      \n",
      "=================================================================\n",
      "Total params: 101,770\n",
      "Trainable params: 101,770\n",
      "Non-trainable params: 0\n",
      "_________________________________________________________________\n",
      "Epoch 1/10\n",
      "1688/1688 [==============================] - 2s 1ms/step - loss: 0.5088 - accuracy: 0.8206 - val_loss: 0.4292 - val_accuracy: 0.8482\n",
      "Epoch 2/10\n",
      "1688/1688 [==============================] - 2s 1ms/step - loss: 0.3826 - accuracy: 0.8612 - val_loss: 0.3985 - val_accuracy: 0.8540\n",
      "Epoch 3/10\n",
      "1688/1688 [==============================] - 2s 1ms/step - loss: 0.3426 - accuracy: 0.8750 - val_loss: 0.3710 - val_accuracy: 0.8683oss: 0.3437 - \n",
      "Epoch 4/10\n",
      "1688/1688 [==============================] - 2s 1ms/step - loss: 0.3192 - accuracy: 0.8832 - val_loss: 0.3495 - val_accuracy: 0.8730\n",
      "Epoch 5/10\n",
      "1688/1688 [==============================] - 2s 1ms/step - loss: 0.3008 - accuracy: 0.8911 - val_loss: 0.3400 - val_accuracy: 0.8833\n",
      "Epoch 6/10\n",
      "1688/1688 [==============================] - 2s 1ms/step - loss: 0.2855 - accuracy: 0.8956 - val_loss: 0.3328 - val_accuracy: 0.8868\n",
      "Epoch 7/10\n",
      "1688/1688 [==============================] - 2s 1ms/step - loss: 0.2750 - accuracy: 0.8987 - val_loss: 0.3413 - val_accuracy: 0.8807\n",
      "Epoch 8/10\n",
      "1688/1688 [==============================] - 2s 1ms/step - loss: 0.2632 - accuracy: 0.9023 - val_loss: 0.3169 - val_accuracy: 0.8875\n",
      "Epoch 9/10\n",
      "1688/1688 [==============================] - 2s 1ms/step - loss: 0.2524 - accuracy: 0.9054 - val_loss: 0.3270 - val_accuracy: 0.8890: 0s - loss: 0.2511 - accuracy: 0.90 - ETA: 0s - loss: 0.2522 - accura\n",
      "Epoch 10/10\n",
      "1688/1688 [==============================] - 2s 1ms/step - loss: 0.2441 - accuracy: 0.9091 - val_loss: 0.3163 - val_accuracy: 0.8902\n",
      "313/313 [==============================] - 0s 750us/step - loss: 58.3644 - accuracy: 0.8693 0s - loss: 59.8811 - accuracy: 0.86\n"
     ]
    }
   ],
   "source": [
    "# fun8(x_train_arr,y_train_cat,x_val_arr,y_val_cat,x_test_arr,y_test_cat)"
   ]
  },
  {
   "cell_type": "code",
   "execution_count": 96,
   "id": "89d2f7dc",
   "metadata": {},
   "outputs": [
    {
     "name": "stdout",
     "output_type": "stream",
     "text": [
      "Model: \"sequential_12\"\n",
      "_________________________________________________________________\n",
      "Layer (type)                 Output Shape              Param #   \n",
      "=================================================================\n",
      "conv2d_4 (Conv2D)            (None, 26, 26, 32)        320       \n",
      "_________________________________________________________________\n",
      "max_pooling2d_4 (MaxPooling2 (None, 13, 13, 32)        0         \n",
      "_________________________________________________________________\n",
      "dropout_4 (Dropout)          (None, 13, 13, 32)        0         \n",
      "_________________________________________________________________\n",
      "flatten_12 (Flatten)         (None, 5408)              0         \n",
      "_________________________________________________________________\n",
      "dense_24 (Dense)             (None, 32)                173088    \n",
      "_________________________________________________________________\n",
      "dense_25 (Dense)             (None, 10)                330       \n",
      "=================================================================\n",
      "Total params: 173,738\n",
      "Trainable params: 173,738\n",
      "Non-trainable params: 0\n",
      "_________________________________________________________________\n",
      "Epoch 1/20\n",
      "1688/1688 [==============================] - 13s 8ms/step - loss: 0.4563 - accuracy: 0.8403 - val_loss: 0.3539 - val_accuracy: 0.8745\n",
      "Epoch 2/20\n",
      "1688/1688 [==============================] - 12s 7ms/step - loss: 0.3231 - accuracy: 0.8846 - val_loss: 0.3371 - val_accuracy: 0.8807\n",
      "Epoch 3/20\n",
      "1688/1688 [==============================] - 12s 7ms/step - loss: 0.2877 - accuracy: 0.8977 - val_loss: 0.2925 - val_accuracy: 0.8940\n",
      "Epoch 4/20\n",
      "1688/1688 [==============================] - 13s 8ms/step - loss: 0.2608 - accuracy: 0.9063 - val_loss: 0.2823 - val_accuracy: 0.8967\n",
      "Epoch 5/20\n",
      "1688/1688 [==============================] - 13s 8ms/step - loss: 0.2418 - accuracy: 0.9126 - val_loss: 0.2866 - val_accuracy: 0.8962\n",
      "Epoch 6/20\n",
      "1688/1688 [==============================] - 12s 7ms/step - loss: 0.2245 - accuracy: 0.9184 - val_loss: 0.2690 - val_accuracy: 0.9035\n",
      "Epoch 7/20\n",
      "1688/1688 [==============================] - 12s 7ms/step - loss: 0.2111 - accuracy: 0.9233 - val_loss: 0.2722 - val_accuracy: 0.9040\n",
      "Epoch 8/20\n",
      "1688/1688 [==============================] - 12s 7ms/step - loss: 0.1964 - accuracy: 0.9280 - val_loss: 0.2614 - val_accuracy: 0.9063\n",
      "Epoch 9/20\n",
      "1688/1688 [==============================] - 13s 8ms/step - loss: 0.1861 - accuracy: 0.9310 - val_loss: 0.2542 - val_accuracy: 0.9080\n",
      "Epoch 10/20\n",
      "1688/1688 [==============================] - 12s 7ms/step - loss: 0.1777 - accuracy: 0.9342 - val_loss: 0.2689 - val_accuracy: 0.9107\n",
      "Epoch 11/20\n",
      "1688/1688 [==============================] - 12s 7ms/step - loss: 0.1696 - accuracy: 0.9381 - val_loss: 0.2641 - val_accuracy: 0.9095\n",
      "Epoch 12/20\n",
      "1688/1688 [==============================] - 12s 7ms/step - loss: 0.1596 - accuracy: 0.9417 - val_loss: 0.2700 - val_accuracy: 0.9078\n",
      "Epoch 13/20\n",
      "1688/1688 [==============================] - 12s 7ms/step - loss: 0.1532 - accuracy: 0.9429 - val_loss: 0.2671 - val_accuracy: 0.9103\n",
      "Epoch 14/20\n",
      "1688/1688 [==============================] - 13s 7ms/step - loss: 0.1507 - accuracy: 0.9438 - val_loss: 0.2751 - val_accuracy: 0.9075\n",
      "Epoch 15/20\n",
      "1688/1688 [==============================] - 12s 7ms/step - loss: 0.1408 - accuracy: 0.9477 - val_loss: 0.2775 - val_accuracy: 0.9088\n",
      "Epoch 16/20\n",
      "1688/1688 [==============================] - 12s 7ms/step - loss: 0.1356 - accuracy: 0.9494 - val_loss: 0.2744 - val_accuracy: 0.9097\n",
      "Epoch 17/20\n",
      "1688/1688 [==============================] - 13s 7ms/step - loss: 0.1307 - accuracy: 0.9518 - val_loss: 0.2801 - val_accuracy: 0.9090\n",
      "Epoch 18/20\n",
      "1688/1688 [==============================] - 12s 7ms/step - loss: 0.1242 - accuracy: 0.9535 - val_loss: 0.2951 - val_accuracy: 0.9088\n",
      "Epoch 19/20\n",
      "1688/1688 [==============================] - 13s 7ms/step - loss: 0.1227 - accuracy: 0.9545 - val_loss: 0.2981 - val_accuracy: 0.9117\n",
      "Epoch 20/20\n",
      "1688/1688 [==============================] - 13s 8ms/step - loss: 0.1183 - accuracy: 0.9554 - val_loss: 0.3037 - val_accuracy: 0.9088\n"
     ]
    }
   ],
   "source": [
    "# fun9(x_train_arr,y_train_cat,x_val_arr,y_val_cat,x_test_arr,y_test_cat)"
   ]
  },
  {
   "cell_type": "code",
   "execution_count": 97,
   "id": "654cf1c1",
   "metadata": {},
   "outputs": [
    {
     "data": {
      "text/plain": [
       "[0.8693000078201294, 0.8543000221252441]"
      ]
     },
     "execution_count": 97,
     "metadata": {},
     "output_type": "execute_result"
    }
   ],
   "source": [
    "# acc"
   ]
  },
  {
   "cell_type": "code",
   "execution_count": 98,
   "id": "d9bfc014",
   "metadata": {},
   "outputs": [],
   "source": [
    "# acc.clear()"
   ]
  },
  {
   "cell_type": "code",
   "execution_count": 104,
   "id": "37b79e17",
   "metadata": {},
   "outputs": [
    {
     "name": "stdout",
     "output_type": "stream",
     "text": [
      "Model: \"sequential_14\"\n",
      "_________________________________________________________________\n",
      "Layer (type)                 Output Shape              Param #   \n",
      "=================================================================\n",
      "conv2d_7 (Conv2D)            (None, 26, 26, 6)         60        \n",
      "_________________________________________________________________\n",
      "average_pooling2d_2 (Average (None, 13, 13, 6)         0         \n",
      "_________________________________________________________________\n",
      "conv2d_8 (Conv2D)            (None, 11, 11, 16)        880       \n",
      "_________________________________________________________________\n",
      "average_pooling2d_3 (Average (None, 5, 5, 16)          0         \n",
      "_________________________________________________________________\n",
      "flatten_14 (Flatten)         (None, 400)               0         \n",
      "_________________________________________________________________\n",
      "dense_29 (Dense)             (None, 120)               48120     \n",
      "_________________________________________________________________\n",
      "dense_30 (Dense)             (None, 84)                10164     \n",
      "_________________________________________________________________\n",
      "dense_31 (Dense)             (None, 10)                850       \n",
      "=================================================================\n",
      "Total params: 60,074\n",
      "Trainable params: 60,074\n",
      "Non-trainable params: 0\n",
      "_________________________________________________________________\n"
     ]
    }
   ],
   "source": [
    "9# fun10(x_train_arr,y_train_cat,x_val_arr,y_val_cat,x_test_arr,y_test_cat)"
   ]
  },
  {
   "cell_type": "code",
   "execution_count": 120,
   "id": "579363b0",
   "metadata": {},
   "outputs": [
    {
     "name": "stdout",
     "output_type": "stream",
     "text": [
      "89.25\n",
      "76.26666666666667\n",
      "86.3\n",
      "73.91666666666666\n",
      "85.65\n"
     ]
    },
    {
     "name": "stderr",
     "output_type": "stream",
     "text": [
      "C:\\Users\\hp\\anaconda3\\lib\\site-packages\\sklearn\\linear_model\\_logistic.py:763: ConvergenceWarning: lbfgs failed to converge (status=1):\n",
      "STOP: TOTAL NO. of ITERATIONS REACHED LIMIT.\n",
      "\n",
      "Increase the number of iterations (max_iter) or scale the data as shown in:\n",
      "    https://scikit-learn.org/stable/modules/preprocessing.html\n",
      "Please also refer to the documentation for alternative solver options:\n",
      "    https://scikit-learn.org/stable/modules/linear_model.html#logistic-regression\n",
      "  n_iter_i = _check_optimize_result(\n"
     ]
    },
    {
     "name": "stdout",
     "output_type": "stream",
     "text": [
      "85.48333333333333\n",
      "86.38333333333334\n",
      "Model: \"sequential_21\"\n",
      "_________________________________________________________________\n",
      "Layer (type)                 Output Shape              Param #   \n",
      "=================================================================\n",
      "flatten_21 (Flatten)         (None, 784)               0         \n",
      "_________________________________________________________________\n",
      "dense_44 (Dense)             (None, 128)               100480    \n",
      "_________________________________________________________________\n",
      "dense_45 (Dense)             (None, 10)                1290      \n",
      "=================================================================\n",
      "Total params: 101,770\n",
      "Trainable params: 101,770\n",
      "Non-trainable params: 0\n",
      "_________________________________________________________________\n",
      "Epoch 1/10\n",
      "1688/1688 [==============================] - 33s 17ms/step - loss: 0.5141 - accuracy: 0.8188 - val_loss: 0.4358 - val_accuracy: 0.8455\n",
      "Epoch 2/10\n",
      "1688/1688 [==============================] - 3s 2ms/step - loss: 0.3911 - accuracy: 0.8595 - val_loss: 0.3759 - val_accuracy: 0.8693\n",
      "Epoch 3/10\n",
      "1688/1688 [==============================] - 3s 2ms/step - loss: 0.3462 - accuracy: 0.8735 - val_loss: 0.3529 - val_accuracy: 0.8735\n",
      "Epoch 4/10\n",
      "1688/1688 [==============================] - 3s 2ms/step - loss: 0.3215 - accuracy: 0.8823 - val_loss: 0.3366 - val_accuracy: 0.8762\n",
      "Epoch 5/10\n",
      "1688/1688 [==============================] - 4s 2ms/step - loss: 0.3036 - accuracy: 0.8893 - val_loss: 0.3376 - val_accuracy: 0.8777\n",
      "Epoch 6/10\n",
      "1688/1688 [==============================] - 3s 2ms/step - loss: 0.2879 - accuracy: 0.8934 - val_loss: 0.3474 - val_accuracy: 0.8770\n",
      "Epoch 7/10\n",
      "1688/1688 [==============================] - 3s 2ms/step - loss: 0.2736 - accuracy: 0.8982 - val_loss: 0.3393 - val_accuracy: 0.8817\n",
      "Epoch 8/10\n",
      "1688/1688 [==============================] - 4s 2ms/step - loss: 0.2643 - accuracy: 0.9024 - val_loss: 0.3247 - val_accuracy: 0.8852\n",
      "Epoch 9/10\n",
      "1688/1688 [==============================] - 3s 2ms/step - loss: 0.2539 - accuracy: 0.9055 - val_loss: 0.3276 - val_accuracy: 0.8825\n",
      "Epoch 10/10\n",
      "1688/1688 [==============================] - 4s 2ms/step - loss: 0.2455 - accuracy: 0.9083 - val_loss: 0.3196 - val_accuracy: 0.8892\n",
      "313/313 [==============================] - 0s 1ms/step - loss: 50.2040 - accuracy: 0.8755\n",
      "Model: \"sequential_22\"\n",
      "_________________________________________________________________\n",
      "Layer (type)                 Output Shape              Param #   \n",
      "=================================================================\n",
      "conv2d_12 (Conv2D)           (None, 26, 26, 32)        320       \n",
      "_________________________________________________________________\n",
      "max_pooling2d_8 (MaxPooling2 (None, 13, 13, 32)        0         \n",
      "_________________________________________________________________\n",
      "dropout_8 (Dropout)          (None, 13, 13, 32)        0         \n",
      "_________________________________________________________________\n",
      "flatten_22 (Flatten)         (None, 5408)              0         \n",
      "_________________________________________________________________\n",
      "dense_46 (Dense)             (None, 32)                173088    \n",
      "_________________________________________________________________\n",
      "dense_47 (Dense)             (None, 10)                330       \n",
      "=================================================================\n",
      "Total params: 173,738\n",
      "Trainable params: 173,738\n",
      "Non-trainable params: 0\n",
      "_________________________________________________________________\n",
      "Epoch 1/20\n",
      "1688/1688 [==============================] - 22s 13ms/step - loss: 0.4519 - accuracy: 0.8381 - val_loss: 0.3320 - val_accuracy: 0.8780\n",
      "Epoch 2/20\n",
      "1688/1688 [==============================] - 21s 12ms/step - loss: 0.3155 - accuracy: 0.8878 - val_loss: 0.3132 - val_accuracy: 0.8868\n",
      "Epoch 3/20\n",
      "1688/1688 [==============================] - 22s 13ms/step - loss: 0.2779 - accuracy: 0.9006 - val_loss: 0.3135 - val_accuracy: 0.8895\n",
      "Epoch 4/20\n",
      "1688/1688 [==============================] - 21s 12ms/step - loss: 0.2553 - accuracy: 0.9075 - val_loss: 0.2826 - val_accuracy: 0.8977\n",
      "Epoch 5/20\n",
      "1688/1688 [==============================] - 20s 12ms/step - loss: 0.2356 - accuracy: 0.9141 - val_loss: 0.2743 - val_accuracy: 0.9023\n",
      "Epoch 6/20\n",
      "1688/1688 [==============================] - 20s 12ms/step - loss: 0.2230 - accuracy: 0.9187 - val_loss: 0.2841 - val_accuracy: 0.8935\n",
      "Epoch 7/20\n",
      "1688/1688 [==============================] - 20s 12ms/step - loss: 0.2073 - accuracy: 0.9244 - val_loss: 0.2530 - val_accuracy: 0.9050\n",
      "Epoch 8/20\n",
      "1688/1688 [==============================] - 23s 14ms/step - loss: 0.1957 - accuracy: 0.9280 - val_loss: 0.2630 - val_accuracy: 0.9067\n",
      "Epoch 9/20\n",
      "1688/1688 [==============================] - 403s 239ms/step - loss: 0.1842 - accuracy: 0.9325 - val_loss: 0.2599 - val_accuracy: 0.9072\n",
      "Epoch 10/20\n",
      "1688/1688 [==============================] - 15s 9ms/step - loss: 0.1757 - accuracy: 0.9356 - val_loss: 0.2576 - val_accuracy: 0.9108\n",
      "Epoch 11/20\n",
      "1688/1688 [==============================] - 15s 9ms/step - loss: 0.1663 - accuracy: 0.9373 - val_loss: 0.2888 - val_accuracy: 0.9003\n",
      "Epoch 12/20\n",
      "1688/1688 [==============================] - 14s 9ms/step - loss: 0.1579 - accuracy: 0.9419 - val_loss: 0.2528 - val_accuracy: 0.9120\n",
      "Epoch 13/20\n",
      "1688/1688 [==============================] - 14s 8ms/step - loss: 0.1521 - accuracy: 0.9434 - val_loss: 0.2610 - val_accuracy: 0.9122\n",
      "Epoch 14/20\n",
      "1688/1688 [==============================] - 14s 9ms/step - loss: 0.1442 - accuracy: 0.9464 - val_loss: 0.2621 - val_accuracy: 0.9150\n",
      "Epoch 15/20\n",
      "1688/1688 [==============================] - 15s 9ms/step - loss: 0.1393 - accuracy: 0.9476 - val_loss: 0.2769 - val_accuracy: 0.9112\n",
      "Epoch 16/20\n",
      "1688/1688 [==============================] - 14s 8ms/step - loss: 0.1337 - accuracy: 0.9499 - val_loss: 0.2829 - val_accuracy: 0.9135\n",
      "Epoch 17/20\n",
      "1688/1688 [==============================] - 14s 8ms/step - loss: 0.1287 - accuracy: 0.9523 - val_loss: 0.2748 - val_accuracy: 0.9120\n",
      "Epoch 18/20\n",
      "1688/1688 [==============================] - 14s 8ms/step - loss: 0.1248 - accuracy: 0.9534 - val_loss: 0.2827 - val_accuracy: 0.9148\n",
      "Epoch 19/20\n",
      "1688/1688 [==============================] - 14s 8ms/step - loss: 0.1210 - accuracy: 0.9545 - val_loss: 0.2872 - val_accuracy: 0.9097\n",
      "Epoch 20/20\n",
      "1688/1688 [==============================] - 14s 8ms/step - loss: 0.1169 - accuracy: 0.9558 - val_loss: 0.2966 - val_accuracy: 0.9102\n",
      "313/313 [==============================] - 1s 3ms/step - loss: 98.0755 - accuracy: 0.8211\n"
     ]
    }
   ],
   "source": [
    "acc.clear()\n",
    "fun1(x_train_pca,y_train,x_val_pca,y_val,x_test_pca,y_test)\n",
    "fun2(x_train_pca,y_train,x_val_pca,y_val,x_test_pca,y_test)\n",
    "fun3(x_train_pca,y_train,x_val_pca,y_val,x_test_pca,y_test)\n",
    "fun4(x_train_pca,y_train,x_val_pca,y_val,x_test_pca,y_test)\n",
    "fun5(x_train_pca,y_train,x_val_pca,y_val,x_test_pca,y_test)\n",
    "fun6(x_train_pca,y_train,x_val_pca,y_val,x_test_pca,y_test)\n",
    "fun7(x_train_pca,y_train,x_val_pca,y_val,x_test_pca,y_test)\n",
    "fun8(x_train_arr,y_train_cat,x_val_arr,y_val_cat,x_test_arr,y_test_cat)\n",
    "fun9(x_train_arr,y_train_cat,x_val_arr,y_val_cat,x_test_arr,y_test_cat)\n",
    "\n"
   ]
  },
  {
   "cell_type": "code",
   "execution_count": 121,
   "id": "3dd5c118",
   "metadata": {},
   "outputs": [
    {
     "data": {
      "text/plain": [
       "[0.8964,\n",
       " 0.7616,\n",
       " 0.8637,\n",
       " 0.7445,\n",
       " 0.8635,\n",
       " 0.857,\n",
       " 0.8638,\n",
       " 0.8755000233650208,\n",
       " 0.8210999965667725]"
      ]
     },
     "execution_count": 121,
     "metadata": {},
     "output_type": "execute_result"
    }
   ],
   "source": [
    "acc"
   ]
  },
  {
   "cell_type": "code",
   "execution_count": 122,
   "id": "d00f3931",
   "metadata": {},
   "outputs": [
    {
     "data": {
      "text/plain": [
       "<BarContainer object of 9 artists>"
      ]
     },
     "execution_count": 122,
     "metadata": {},
     "output_type": "execute_result"
    },
    {
     "data": {
      "image/png": "[encoded data removed]",
      "text/plain": [
       "<Figure size 1440x1440 with 1 Axes>"
      ]
     },
     "metadata": {
      "needs_background": "light"
     },
     "output_type": "display_data"
    }
   ],
   "source": [
    "plt.figure(figsize=(20,20))\n",
    "plt.bar(meth,acc)"
   ]
  },
  {
   "cell_type": "markdown",
   "id": "6171dad8",
   "metadata": {},
   "source": [
    "Predicting using best classifier for random images"
   ]
  },
  {
   "cell_type": "code",
   "execution_count": 142,
   "id": "6cc4331c",
   "metadata": {},
   "outputs": [
    {
     "data": {
      "image/png": "[encoded data removed]",
      "text/plain": [
       "<Figure size 720x720 with 25 Axes>"
      ]
     },
     "metadata": {},
     "output_type": "display_data"
    }
   ],
   "source": [
    "svc = SVC(gamma='scale',kernel='rbf',C=1)\n",
    "svc.fit(x_train_pca,y_train)\n",
    "plt.figure(figsize=(10,10))\n",
    "for i in range(25):\n",
    "    plt.subplot(5,5, i+1)\n",
    "    plt.xticks([])\n",
    "    plt.yticks([])\n",
    "    plt.grid(False)\n",
    "    temp=random.choice(range(0,5000))\n",
    "    plt.imshow(df.drop('label', axis=1).values[temp].reshape(28,28), cmap=plt.cm.binary)\n",
    "    t=svc.predict([x_train_pca[temp]])\n",
    "    plt.xlabel(clothing[t[0]])"
   ]
  },
  {
   "cell_type": "code",
   "execution_count": null,
   "id": "198093ae",
   "metadata": {},
   "outputs": [],
   "source": []
  }
 ],
 "metadata": {
  "kernelspec": {
   "display_name": "Python 3",
   "language": "python",
   "name": "python3"
  },
  "language_info": {
   "codemirror_mode": {
    "name": "ipython",
    "version": 3
   },
   "file_extension": ".py",
   "mimetype": "text/x-python",
   "name": "python",
   "nbconvert_exporter": "python",
   "pygments_lexer": "ipython3",
   "version": "3.8.8"
  }
 },
 "nbformat": 4,
 "nbformat_minor": 5
}
